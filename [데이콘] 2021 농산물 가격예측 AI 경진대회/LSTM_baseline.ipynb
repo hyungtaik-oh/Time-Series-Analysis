{
 "cells": [
  {
   "cell_type": "code",
   "execution_count": 1,
   "id": "dd91743b",
   "metadata": {},
   "outputs": [],
   "source": [
    "import glob\n",
    "import os\n",
    "from tqdm import tqdm\n",
    "\n",
    "import pandas as pd\n",
    "import numpy as np\n",
    "\n",
    "import matplotlib.pyplot as plt\n",
    "from matplotlib import rc\n",
    "import seaborn as sns\n",
    "\n",
    "%matplotlib inline\n",
    "\n",
    "import warnings\n",
    "warnings.filterwarnings('ignore')"
   ]
  },
  {
   "cell_type": "code",
   "execution_count": 2,
   "id": "7c1e9885",
   "metadata": {},
   "outputs": [],
   "source": [
    "import tensorflow as tf\n",
    "from tensorflow.keras import layers, models, optimizers"
   ]
  },
  {
   "cell_type": "code",
   "execution_count": 3,
   "id": "ff3d30b0",
   "metadata": {},
   "outputs": [
    {
     "name": "stdout",
     "output_type": "stream",
     "text": [
      "1 Physical GPUs, 1 Logical GPUs\n"
     ]
    }
   ],
   "source": [
    "# gpu 설정\n",
    "gpus = tf.config.experimental.list_physical_devices('GPU')\n",
    "if gpus:\n",
    "    try:\n",
    "        # Currently, memory growth needs to be the same across GPUs\n",
    "        for gpu in gpus:\n",
    "            tf.config.experimental.set_memory_growth(gpu, True)\n",
    "        logical_gpus = tf.config.experimental.list_logical_devices('GPU')\n",
    "        print(len(gpus), \"Physical GPUs,\", len(logical_gpus), \"Logical GPUs\")\n",
    "    except RuntimeError as e:\n",
    "        # Memory growth must be set before GPUs have been initialized\n",
    "        print(e)"
   ]
  },
  {
   "cell_type": "code",
   "execution_count": 4,
   "id": "b3de204b",
   "metadata": {},
   "outputs": [],
   "source": [
    "plt.rcParams[\"font.family\"] = 'NanumGothic'"
   ]
  },
  {
   "cell_type": "code",
   "execution_count": 5,
   "id": "a9d53cec",
   "metadata": {},
   "outputs": [],
   "source": [
    "train = pd.read_csv(os.path.join('Data', 'public_data', 'train.csv'))"
   ]
  },
  {
   "cell_type": "markdown",
   "id": "9eaa0c10",
   "metadata": {},
   "source": [
    "- public 데이터에는 2020년도만 포함시켜야함\n",
    "- 2020-09-29 ~ 2020-12-03일 까지"
   ]
  },
  {
   "cell_type": "markdown",
   "id": "0d96bfa1",
   "metadata": {},
   "source": [
    "### 데이터 정규화"
   ]
  },
  {
   "cell_type": "code",
   "execution_count": 6,
   "id": "c0838892",
   "metadata": {
    "scrolled": true
   },
   "outputs": [],
   "source": [
    "# 요일은 원핫 인코딩을 적용함, 요일에 대한 의미가 없을 것이라고 판단\n",
    "train = pd.concat([train, pd.get_dummies(train['요일'])], axis = 1)\n",
    "train = train.drop(['요일'], axis = 1)\n",
    "\n",
    "col1 = train.columns[-7:].to_list()\n",
    "col2 = train.columns[1:-7].to_list()\n",
    "\n",
    "new_col = ['date'] + col1 + col2\n",
    "train = train[new_col]\n",
    "\n",
    "# 0 ~ 1 값으로 정규화 진행\n",
    "norm = train.iloc[:,8:].max(0)\n",
    "train.iloc[:,8:] = train.iloc[:,8:]/norm"
   ]
  },
  {
   "cell_type": "markdown",
   "id": "abc0a368",
   "metadata": {},
   "source": [
    "### 하이퍼파라미터"
   ]
  },
  {
   "cell_type": "code",
   "execution_count": 7,
   "id": "e5e30f1b",
   "metadata": {},
   "outputs": [],
   "source": [
    "# device = torch.device(\"cuda:0\") # GPU 사용\n",
    "# target_n = 21 # 맞춰야하는 품목/품종의 수\n",
    "# learning_rate = 5e-4 # 학습률\n",
    "# BATCH_SIZE = 128 # 배치사이즈\n",
    "# EPOCHS = 50 # 총 eopochs\n",
    "# teacher_forcing = False # 교사강요 설정\n",
    "# n_layers = 3 # rnn레이어 층\n",
    "# dropout = 0.2 # 드롭아웃\n",
    "window_size = 28 # 인코더 시퀀스 길이\n",
    "future_size = 28 # 디코더 시퀀스 길이\n",
    "# hidden_dim = 128 # rnn 히든차원\n",
    "# save_path = f'./models/best_model.pt' # 모델 저장 경로"
   ]
  },
  {
   "cell_type": "markdown",
   "id": "144067cd",
   "metadata": {},
   "source": [
    "### 전처리"
   ]
  },
  {
   "cell_type": "code",
   "execution_count": 8,
   "id": "14274cb7",
   "metadata": {},
   "outputs": [],
   "source": [
    "x_data = []; y_data = []\n",
    "for i in range(train.shape[0] - window_size - future_size):\n",
    "    x = train.iloc[i:i+window_size, 1:].to_numpy()\n",
    "    y = train.iloc[i+window_size:i+window_size+future_size, 9::2].to_numpy()\n",
    "#     y_0 = np.zeros([1, y.shape[1]]) # 디코더 첫 입력값? \n",
    "    x_data.append(x)\n",
    "    y_data.append(np.concatenate([y], axis = 0))"
   ]
  },
  {
   "cell_type": "code",
   "execution_count": 9,
   "id": "f4213055",
   "metadata": {},
   "outputs": [],
   "source": [
    "x_data = np.array(x_data)\n",
    "y_data = np.array(y_data)"
   ]
  },
  {
   "cell_type": "code",
   "execution_count": 10,
   "id": "32e9c449",
   "metadata": {},
   "outputs": [
    {
     "data": {
      "text/plain": [
       "((1677, 28, 49), (1677, 28, 21))"
      ]
     },
     "execution_count": 10,
     "metadata": {},
     "output_type": "execute_result"
    }
   ],
   "source": [
    "x_data.shape, y_data.shape"
   ]
  },
  {
   "cell_type": "code",
   "execution_count": 11,
   "id": "8283d696",
   "metadata": {},
   "outputs": [],
   "source": [
    "train_test_split = 1\n",
    "x_train = x_data[:-train_test_split-future_size]\n",
    "y_train = y_data[:-train_test_split-future_size]\n",
    "x_val = x_data[-train_test_split:]\n",
    "y_val = y_data[-train_test_split:]"
   ]
  },
  {
   "cell_type": "code",
   "execution_count": 12,
   "id": "18803372",
   "metadata": {},
   "outputs": [
    {
     "data": {
      "text/plain": [
       "((1648, 28, 49), (1648, 28, 21), (1, 28, 49), (1, 28, 21))"
      ]
     },
     "execution_count": 12,
     "metadata": {},
     "output_type": "execute_result"
    }
   ],
   "source": [
    "x_train.shape, y_train.shape, x_val.shape, y_val.shape"
   ]
  },
  {
   "cell_type": "markdown",
   "id": "aa0cb93f",
   "metadata": {},
   "source": [
    "### LSTM 모델"
   ]
  },
  {
   "cell_type": "markdown",
   "id": "39c72019",
   "metadata": {},
   "source": [
    "- LSTM 입력 포맷\n",
    "- https://swlock.blogspot.com/2019/04/keras-lstm-understanding-input-and.html"
   ]
  },
  {
   "cell_type": "code",
   "execution_count": 13,
   "id": "0e4fe1c3",
   "metadata": {},
   "outputs": [],
   "source": [
    "from keras.models import Sequential\n",
    "from keras.layers import Dense, LSTM\n",
    "from keras.callbacks import EarlyStopping"
   ]
  },
  {
   "cell_type": "code",
   "execution_count": 14,
   "id": "87ffa147",
   "metadata": {},
   "outputs": [],
   "source": [
    "# Build the LSTM model\n",
    "# return_sequences 이전 정보를 모두 볼지 안볼지 확인하는 옵션\n",
    "model = Sequential()\n",
    "model.add(LSTM(28, return_sequences = True, input_shape = (x_train.shape[1], x_train.shape[2])))\n",
    "model.add(LSTM(64, return_sequences = False))\n",
    "model.add(Dense(30))\n",
    "model.add(Dense(21))"
   ]
  },
  {
   "cell_type": "code",
   "execution_count": 15,
   "id": "2751d3bc",
   "metadata": {},
   "outputs": [],
   "source": [
    "model.compile(optimizer='adam', loss = 'mean_absolute_error')"
   ]
  },
  {
   "cell_type": "code",
   "execution_count": 16,
   "id": "458060b4",
   "metadata": {},
   "outputs": [
    {
     "name": "stdout",
     "output_type": "stream",
     "text": [
      "Model: \"sequential\"\n",
      "_________________________________________________________________\n",
      "Layer (type)                 Output Shape              Param #   \n",
      "=================================================================\n",
      "lstm (LSTM)                  (None, 28, 28)            8736      \n",
      "_________________________________________________________________\n",
      "lstm_1 (LSTM)                (None, 64)                23808     \n",
      "_________________________________________________________________\n",
      "dense (Dense)                (None, 30)                1950      \n",
      "_________________________________________________________________\n",
      "dense_1 (Dense)              (None, 21)                651       \n",
      "=================================================================\n",
      "Total params: 35,145\n",
      "Trainable params: 35,145\n",
      "Non-trainable params: 0\n",
      "_________________________________________________________________\n"
     ]
    }
   ],
   "source": [
    "model.summary()"
   ]
  },
  {
   "cell_type": "code",
   "execution_count": 19,
   "id": "d7cc6cd5",
   "metadata": {},
   "outputs": [],
   "source": [
    "early_stop = EarlyStopping(monitor='loss', patience=2, verbose=1)"
   ]
  },
  {
   "cell_type": "code",
   "execution_count": 20,
   "id": "6e645885",
   "metadata": {
    "scrolled": true
   },
   "outputs": [
    {
     "name": "stdout",
     "output_type": "stream",
     "text": [
      "Epoch 1/200\n",
      "1648/1648 [==============================] - 7s 5ms/step - loss: 0.1054 - val_loss: 0.1661\n",
      "Epoch 2/200\n",
      "1648/1648 [==============================] - 7s 4ms/step - loss: 0.0938 - val_loss: 0.1619\n",
      "Epoch 3/200\n",
      "1648/1648 [==============================] - 7s 4ms/step - loss: 0.0902 - val_loss: 0.1747\n",
      "Epoch 4/200\n",
      "1648/1648 [==============================] - 7s 4ms/step - loss: 0.0881 - val_loss: 0.1813\n",
      "Epoch 5/200\n",
      "1648/1648 [==============================] - 7s 4ms/step - loss: 0.0864 - val_loss: 0.1725\n",
      "Epoch 6/200\n",
      "1648/1648 [==============================] - 7s 4ms/step - loss: 0.0851 - val_loss: 0.1726\n",
      "Epoch 7/200\n",
      "1648/1648 [==============================] - 7s 4ms/step - loss: 0.0843 - val_loss: 0.1687\n",
      "Epoch 8/200\n",
      "1648/1648 [==============================] - 7s 4ms/step - loss: 0.0835 - val_loss: 0.1733\n",
      "Epoch 9/200\n",
      "1648/1648 [==============================] - 7s 4ms/step - loss: 0.0831 - val_loss: 0.1748\n",
      "Epoch 10/200\n",
      "1648/1648 [==============================] - 7s 4ms/step - loss: 0.0824 - val_loss: 0.1803\n",
      "Epoch 11/200\n",
      "1648/1648 [==============================] - 7s 4ms/step - loss: 0.0822 - val_loss: 0.1749\n",
      "Epoch 12/200\n",
      "1648/1648 [==============================] - 7s 4ms/step - loss: 0.0816 - val_loss: 0.1700\n",
      "Epoch 13/200\n",
      "1648/1648 [==============================] - 7s 4ms/step - loss: 0.0816 - val_loss: 0.1746\n",
      "Epoch 14/200\n",
      "1648/1648 [==============================] - 7s 4ms/step - loss: 0.0809 - val_loss: 0.1715\n",
      "Epoch 15/200\n",
      "1648/1648 [==============================] - 7s 4ms/step - loss: 0.0809 - val_loss: 0.1697\n",
      "Epoch 16/200\n",
      "1648/1648 [==============================] - 7s 4ms/step - loss: 0.0807 - val_loss: 0.1702\n",
      "Epoch 17/200\n",
      "1648/1648 [==============================] - 7s 4ms/step - loss: 0.0810 - val_loss: 0.1681\n",
      "Epoch 18/200\n",
      "1648/1648 [==============================] - 7s 4ms/step - loss: 0.0805 - val_loss: 0.1647\n",
      "Epoch 19/200\n",
      "1648/1648 [==============================] - 7s 4ms/step - loss: 0.0802 - val_loss: 0.1849\n",
      "Epoch 20/200\n",
      "1648/1648 [==============================] - 7s 4ms/step - loss: 0.0808 - val_loss: 0.1607\n",
      "Epoch 21/200\n",
      "1648/1648 [==============================] - 7s 4ms/step - loss: 0.0806 - val_loss: 0.1670\n",
      "Epoch 00021: early stopping\n"
     ]
    },
    {
     "data": {
      "text/plain": [
       "<tensorflow.python.keras.callbacks.History at 0x7f3000097fd0>"
      ]
     },
     "execution_count": 20,
     "metadata": {},
     "output_type": "execute_result"
    }
   ],
   "source": [
    "model.fit(x_train, y_train, batch_size=1, epochs=200, validation_data=(x_val, y_val), verbose = 1, callbacks = [early_stop])"
   ]
  },
  {
   "cell_type": "markdown",
   "id": "a09e4fb3",
   "metadata": {},
   "source": [
    "- loss가 줄어들지 않음\n",
    "- 여러 배수 실험 필요"
   ]
  },
  {
   "cell_type": "code",
   "execution_count": 23,
   "id": "d46db709",
   "metadata": {},
   "outputs": [
    {
     "data": {
      "text/plain": [
       "((1648, 28, 49), (1648, 28, 21))"
      ]
     },
     "execution_count": 23,
     "metadata": {},
     "output_type": "execute_result"
    }
   ],
   "source": [
    "x_train.shape,y_train.shape"
   ]
  },
  {
   "cell_type": "code",
   "execution_count": 24,
   "id": "ce666423",
   "metadata": {},
   "outputs": [
    {
     "data": {
      "text/plain": [
       "((1, 28, 49), (1, 28, 21))"
      ]
     },
     "execution_count": 24,
     "metadata": {},
     "output_type": "execute_result"
    }
   ],
   "source": [
    "x_val.shape, y_val.shape"
   ]
  },
  {
   "cell_type": "markdown",
   "id": "c25e3875",
   "metadata": {},
   "source": [
    "### test"
   ]
  },
  {
   "cell_type": "code",
   "execution_count": 25,
   "id": "b05c5944",
   "metadata": {},
   "outputs": [],
   "source": [
    "submission = pd.read_csv('Data/sample_submission.csv')"
   ]
  },
  {
   "cell_type": "code",
   "execution_count": 26,
   "id": "22a27978",
   "metadata": {},
   "outputs": [],
   "source": [
    "public_date_list = submission[submission['예측대상일자'].str.contains('2020')]['예측대상일자'].str.split('+').str[0].unique()"
   ]
  },
  {
   "cell_type": "code",
   "execution_count": 27,
   "id": "c50d9f34",
   "metadata": {
    "scrolled": false
   },
   "outputs": [
    {
     "data": {
      "text/plain": [
       "array(['2020-09-29', '2020-09-30', '2020-10-01', '2020-10-02',\n",
       "       '2020-10-03', '2020-10-04', '2020-10-05', '2020-10-06',\n",
       "       '2020-10-07', '2020-10-08', '2020-10-09', '2020-10-10',\n",
       "       '2020-10-11', '2020-10-12', '2020-10-13', '2020-10-14',\n",
       "       '2020-10-15', '2020-10-16', '2020-10-17', '2020-10-18',\n",
       "       '2020-10-19', '2020-10-20', '2020-10-21', '2020-10-22',\n",
       "       '2020-10-23', '2020-10-24', '2020-10-25', '2020-10-26',\n",
       "       '2020-10-27', '2020-10-28', '2020-10-29', '2020-10-30',\n",
       "       '2020-10-31', '2020-11-01', '2020-11-02', '2020-11-03',\n",
       "       '2020-11-04', '2020-11-05'], dtype=object)"
      ]
     },
     "execution_count": 27,
     "metadata": {},
     "output_type": "execute_result"
    }
   ],
   "source": [
    "public_date_list"
   ]
  },
  {
   "cell_type": "code",
   "execution_count": 28,
   "id": "b403cd49",
   "metadata": {},
   "outputs": [],
   "source": [
    "for date in public_date_list:\n",
    "    test_df = pd.read_csv(f'Data/public_data/test_files/test_{date}.csv')\n",
    "    data = pd.read_csv('Data/public_data/train.csv')\n",
    "    data = pd.concat([data, test_df]).iloc[-window_size:] # 이전 28일을 보고 예측함\n",
    "\n",
    "    week_day_map = {}\n",
    "    \n",
    "    # 요일은 원핫 인코딩을 적용함, 요일에 대한 의미가 없을 것이라고 판단\n",
    "    data = pd.concat([data, pd.get_dummies(data['요일'])], axis = 1)\n",
    "    data = data.drop(['요일'], axis = 1)\n",
    "\n",
    "    col1 = data.columns[-7:].to_list()\n",
    "    col2 = data.columns[1:-7].to_list()\n",
    "\n",
    "    new_col = col1 + col2\n",
    "    data = data[new_col]\n",
    "\n",
    "    # 0 ~ 1 값으로 정규화 진행\n",
    "    norm = data.iloc[:,7:].max(0)\n",
    "    data.iloc[:,7:] = data.iloc[:,7:]/norm\n",
    "    \n",
    "    output = model.predict(np.array(data).reshape(1,28,49)) * norm[1::2].to_numpy()\n",
    "    break\n",
    "    idx = submission.loc[submission['예측대상일자'].str.contains(date)].index\n",
    "    submission.loc[idx, '배추_가격(원/kg)':] = output[0]"
   ]
  },
  {
   "cell_type": "code",
   "execution_count": 128,
   "id": "3c6a7f84",
   "metadata": {},
   "outputs": [],
   "source": [
    "submission.to_csv('result/01_LSTM.csv', index = False)"
   ]
  },
  {
   "cell_type": "markdown",
   "id": "64eeb7c6",
   "metadata": {},
   "source": [
    "- 제출결과 NMAE : 0.40739 점수 나옴\n",
    "- LSTM 모델 코드를 잘못 짠듯함, 28일 데이터를 보고 2주후 & 4주후 예측하도록 나타나지 않음\n",
    "- 인풋을 배추, 무, 양파 각각 따로 구성을하고 LSTM 모델을 적용해보는 시도 필요함"
   ]
  },
  {
   "cell_type": "markdown",
   "id": "8aaed0c3",
   "metadata": {},
   "source": [
    "- 'forecasting' keyword -> NN이 아닌 모델에서는 반복 수행이 필요함\n",
    "- Prophet, arima 시도해볼만함"
   ]
  },
  {
   "cell_type": "code",
   "execution_count": null,
   "id": "80cbd95a",
   "metadata": {},
   "outputs": [],
   "source": []
  }
 ],
 "metadata": {
  "kernelspec": {
   "display_name": "Python 3",
   "language": "python",
   "name": "python3"
  },
  "language_info": {
   "codemirror_mode": {
    "name": "ipython",
    "version": 3
   },
   "file_extension": ".py",
   "mimetype": "text/x-python",
   "name": "python",
   "nbconvert_exporter": "python",
   "pygments_lexer": "ipython3",
   "version": "3.6.9"
  }
 },
 "nbformat": 4,
 "nbformat_minor": 5
}
